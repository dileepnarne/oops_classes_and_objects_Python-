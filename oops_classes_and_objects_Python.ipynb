{
 "cells": [
  {
   "cell_type": "markdown",
   "metadata": {},
   "source": [
    "# Welcome to Jupyter!"
   ]
  },
  {
   "cell_type": "code",
   "execution_count": 7,
   "metadata": {},
   "outputs": [
    {
     "name": "stdout",
     "output_type": "stream",
     "text": [
      "my dogs name iswhile\n",
      "my dog is 6 years old\n",
      "my dogs name isbruno\n",
      "my dog is 7 years old\n",
      "bruno is now sitting\n",
      "rambo is now sitting\n"
     ]
    }
   ],
   "source": [
    "class Dog:\n",
    " \n",
    "    #\"\"\"A Simple Attempt to model a dog\"\"\"\t#Doc String --->\n",
    "\n",
    "    #def IS A FUNCTION inside class is called as method\n",
    "    def __init__(self,name,age):\n",
    "\n",
    "    #Special methoD called as Constructor, \n",
    "    #it is used to initialize the variables automatically inside a class.\n",
    "    # WE NEED TO USE __INIT_\n",
    "        self.name = name\n",
    "        self.age = age\n",
    "\n",
    "    def sit(self):\n",
    "    #\"\"\"Simulate a dog sitting and age attibutes\"\"\"\n",
    "        print(f\"{self.name} is now sitting\")\n",
    "\n",
    "    def roll_over(self):\n",
    "    #\"\"\"simulate rolling over in responce\"\"\"\n",
    "        print(f\"{self.name} rolled over\")\n",
    "        \n",
    "    def sleep(self):\n",
    "    #\"\"\" simulate sleeping responce\"\"\"\n",
    "        print(f\"{self.name} is now sleeping ..!\")\n",
    "\n",
    "\n",
    "    \n",
    "    \n",
    "my_dog = Dog('while',6)\n",
    "\n",
    "print(f\"my dogs name is{my_dog.name}\")\n",
    "print(f\"my dog is {my_dog.age} years old\")\n",
    "\n",
    "\n",
    "\n",
    "your_dog = Dog('bruno',7) #by assigning the object  # arguments passing\n",
    "\n",
    "\n",
    "print(f\"my dogs name is{your_dog.name}\")\n",
    "print(f\"my dog is {your_dog.age} years old\")\n",
    "\n",
    "\n",
    "\n",
    "\n",
    "#my.dog.sit()\n",
    "\n",
    "#my_dog.roll_over()\n",
    "\n",
    "\n",
    "your_dog.sit() # Dynamic passing of Orguments \n",
    "\n",
    "\n",
    "Someones_dog = Dog('rambo',2)\n",
    "\n",
    "Someones_dog.sit()\n"
   ]
  },
  {
   "cell_type": "markdown",
   "metadata": {},
   "source": [
    "This repo contains an introduction to [Jupyter](https://jupyter.org) and [IPython](https://ipython.org).\n",
    "\n",
    "Outline of some basics:\n",
    "\n",
    "* [Notebook Basics](../examples/Notebook/Notebook%20Basics.ipynb)\n",
    "* [IPython - beyond plain python](../examples/IPython%20Kernel/Beyond%20Plain%20Python.ipynb)\n",
    "* [Markdown Cells](../examples/Notebook/Working%20With%20Markdown%20Cells.ipynb)\n",
    "* [Rich Display System](../examples/IPython%20Kernel/Rich%20Output.ipynb)\n",
    "* [Custom Display logic](../examples/IPython%20Kernel/Custom%20Display%20Logic.ipynb)\n",
    "* [Running a Secure Public Notebook Server](../examples/Notebook/Running%20the%20Notebook%20Server.ipynb#Securing-the-notebook-server)\n",
    "* [How Jupyter works](../examples/Notebook/Multiple%20Languages%2C%20Frontends.ipynb) to run code in different languages."
   ]
  },
  {
   "cell_type": "markdown",
   "metadata": {},
   "source": [
    "You can also get this tutorial and run it on your laptop:\n",
    "\n",
    "    git clone https://github.com/ipython/ipython-in-depth\n",
    "\n",
    "Install IPython and Jupyter:\n",
    "\n",
    "with [conda](https://www.anaconda.com/download):\n",
    "\n",
    "    conda install ipython jupyter\n",
    "\n",
    "with pip:\n",
    "\n",
    "    # first, always upgrade pip!\n",
    "    pip install --upgrade pip\n",
    "    pip install --upgrade ipython jupyter\n",
    "\n",
    "Start the notebook in the tutorial directory:\n",
    "\n",
    "    cd ipython-in-depth\n",
    "    jupyter notebook"
   ]
  }
 ],
 "metadata": {
  "kernelspec": {
   "display_name": "Python 3",
   "language": "python",
   "name": "python3"
  },
  "language_info": {
   "codemirror_mode": {
    "name": "ipython",
    "version": 3
   },
   "file_extension": ".py",
   "mimetype": "text/x-python",
   "name": "python",
   "nbconvert_exporter": "python",
   "pygments_lexer": "ipython3",
   "version": "3.6.7"
  }
 },
 "nbformat": 4,
 "nbformat_minor": 2
}
